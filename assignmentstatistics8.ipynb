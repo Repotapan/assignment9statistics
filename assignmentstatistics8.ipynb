{
 "cells": [
  {
   "cell_type": "markdown",
   "id": "4b900956-64d3-4bcb-b35f-612a722f470a",
   "metadata": {},
   "source": [
    "Q1. Write a Python function that takes in two arrays of data and calculates the F-value for a variance ratio\n",
    "test. The function should return the F-value and the corresponding p-value for the test."
   ]
  },
  {
   "cell_type": "code",
   "execution_count": null,
   "id": "165b7844-4a04-40b6-ad34-eed18a40345e",
   "metadata": {},
   "outputs": [],
   "source": [
    "import numpy as np\n",
    "from scipy import stats\n",
    "\n",
    "def variance_ratio_test(data1, data2):\n",
    "    n1, n2 = len(data1), len(data2)\n",
    "    var1, var2 = np.var(data1, ddof=1), np.var(data2, ddof=1)\n",
    "    f_stat = var1/var2 if var1 > var2 else var2/var1\n",
    "    p_val = 1 - stats.f.cdf(f_stat, n1-1, n2-1)\n",
    "    return f_stat, p_val\n"
   ]
  },
  {
   "cell_type": "markdown",
   "id": "3cea5343-2d09-4253-a536-637b4e870596",
   "metadata": {},
   "source": [
    "Q2. Given a significance level of 0.05 and the degrees of freedom for the numerator and denominator of an\n",
    "F-distribution, write a Python function that returns the critical F-value for a two-tailed test."
   ]
  },
  {
   "cell_type": "code",
   "execution_count": null,
   "id": "2d246279-8366-48cf-8bd0-844d9a1a774e",
   "metadata": {},
   "outputs": [],
   "source": [
    "from scipy import stats\n",
    "\n",
    "def critical_f_value(dfn, dfd):\n",
    "    alpha = 0.05\n",
    "    return stats.f.ppf(alpha/2, dfn, dfd), stats.f.ppf(1-alpha/2, dfn, dfd)\n",
    "dfn = 2\n",
    "dfd = 27\n",
    "f_crit_low, f_crit_high = critical_f_value(dfn, dfd)\n",
    "print(\"Critical F-value (lower):\", f_crit_low)\n",
    "print(\"Critical F-value (upper):\", f_crit_high)\n",
    "\n"
   ]
  },
  {
   "cell_type": "code",
   "execution_count": null,
   "id": "4113195d-7c42-4b8d-91e3-d7bcde7b01b8",
   "metadata": {},
   "outputs": [],
   "source": []
  },
  {
   "cell_type": "markdown",
   "id": "d816471b-b369-4d70-83cd-db5df280cc0a",
   "metadata": {},
   "source": [
    "Q3. Write a Python program that generates random samples from two normal distributions with known\n",
    "\n",
    "variances and uses an F-test to determine if the variances are equal. The program should output the F-\n",
    "value, degrees of freedom, and p-value for the test."
   ]
  },
  {
   "cell_type": "code",
   "execution_count": null,
   "id": "5e0daa7d-6d14-43e7-88d5-c1acb0d6e654",
   "metadata": {},
   "outputs": [],
   "source": [
    "import numpy as np\n",
    "from scipy.stats import f\n",
    "\n",
    "# Set the random seed for reproducibility\n",
    "np.random.seed(123)\n",
    "\n",
    "# Generate random samples from two normal distributions with known variances\n",
    "sample1 = np.random.normal(loc=0, scale=1, size=100)\n",
    "sample2 = np.random.normal(loc=0, scale=2, size=100)\n",
    "\n",
    "# Calculate the variances and degrees of freedom for the samples\n",
    "var1 = np.var(sample1, ddof=1)\n",
    "var2 = np.var(sample2, ddof=1)\n",
    "dfn = len(sample1) - 1\n",
    "dfd = len(sample2) - 1\n",
    "\n",
    "# Calculate the F-value and p-value for the F-test\n",
    "f_value = var1 / var2\n",
    "p_value = f.sf(f_value, dfn, dfd) * 2\n",
    "\n",
    "# Print the results\n",
    "print(\"F-value:\", f_value)\n",
    "print(\"Degrees of freedom (numerator):\", dfn)\n",
    "print(\"Degrees of freedom (denominator):\", dfd)\n",
    "print(\"P-value:\", p_value)\n"
   ]
  },
  {
   "cell_type": "markdown",
   "id": "4697a527-8447-4135-bc03-60512ab25664",
   "metadata": {},
   "source": [
    "Q4.The variances of two populations are known to be 10 and 15. A sample of 12 observations is taken from\n",
    "each population. Conduct an F-test at the 5% significance level to determine if the variances are\n",
    "significantly different."
   ]
  },
  {
   "cell_type": "markdown",
   "id": "8b24c0a2-1f15-4db4-b72a-4ba9750aed70",
   "metadata": {},
   "source": [
    "Given that we have two populations with known variances, and sample sizes are equal, we can conduct an F-test to compare their variances. The null hypothesis is that the variances are equal, and the alternative hypothesis is that they are not equal.\n",
    "\n",
    "Let's define the significance level as alpha = 0.05.\n",
    "\n",
    "Using the formula for the F-statistic, we have:\n",
    "\n",
    "F = s1^2 / s2^2\n",
    "\n",
    "where s1^2 and s2^2 are the sample variances.\n",
    "\n",
    "The null hypothesis is that the variances are equal, so we can calculate the pooled sample variance:\n",
    "\n",
    "sp^2 = ((n1 - 1) * s1^2 + (n2 - 1) * s2^2) / (n1 + n2 - 2)\n",
    "\n",
    "where n1 and n2 are the sample sizes.\n",
    "\n",
    "Using the values given in the problem, we have:\n",
    "\n",
    "n1 = n2 = 12\n",
    "s1^2 = 10\n",
    "s2^2 = 15\n",
    "\n",
    "sp^2 = ((12 - 1) * 10 + (12 - 1) * 15) / (12 + 12 - 2) = 12.5\n",
    "\n",
    "The F-statistic is then:\n",
    "\n",
    "F = s1^2 / s2^2 = 10 / 15 = 0.6667\n",
    "\n",
    "The degrees of freedom are:\n",
    "\n",
    "df1 = n1 - 1 = 11\n",
    "df2 = n2 - 1 = 11\n",
    "\n",
    "Using Python, we can calculate the p-value using the cumulative distribution function of the F-distribution:"
   ]
  },
  {
   "cell_type": "code",
   "execution_count": null,
   "id": "57bafbbb-a17c-4bff-bdc6-7f72fe309050",
   "metadata": {},
   "outputs": [],
   "source": [
    "import scipy.stats as stats\n",
    "\n",
    "df1 = 11\n",
    "df2 = 11\n",
    "f_value = 0.6667\n",
    "\n",
    "p_value = 2 * stats.f.cdf(f_value, df1, df2)\n"
   ]
  },
  {
   "cell_type": "markdown",
   "id": "b68d12a4-0f82-4972-b5dc-4ef416789ff4",
   "metadata": {},
   "source": [
    "Q5. A manufacturer claims that the variance of the diameter of a certain product is 0.005. A sample of 25\n",
    "products is taken, and the sample variance is found to be 0.006. Conduct an F-test at the 1% significance\n",
    "level to determine if the claim is justified."
   ]
  },
  {
   "cell_type": "markdown",
   "id": "9ade467a-7e3f-49e3-9299-104d5ae35eeb",
   "metadata": {},
   "source": [
    "Null hypothesis: The variance of the diameter of the product is equal to 0.005.\n",
    "Alternative hypothesis: The variance of the diameter of the product is not equal to 0.005.\n",
    "\n",
    "We will conduct an F-test with a significance level of 0.01. The critical F-value for a two-tailed test with 24 degrees of freedom in the numerator and 0.01 significance level is found to be 2.92."
   ]
  },
  {
   "cell_type": "code",
   "execution_count": null,
   "id": "e3bd7ffa-9889-4f2d-aea6-8f82eb6b4c2e",
   "metadata": {},
   "outputs": [],
   "source": [
    "import numpy as np\n",
    "\n",
    "sample_var = 0.006\n",
    "pop_var = 0.005\n",
    "n = 25\n",
    "\n",
    "f_value = sample_var / pop_var\n",
    "f_value *= n - 1\n",
    "f_value = round(f_value, 2)\n",
    "\n",
    "print(\"F-value:\", f_value)\n"
   ]
  },
  {
   "cell_type": "markdown",
   "id": "09612c5e-f330-4943-87ee-3c7a790a7a8c",
   "metadata": {},
   "source": [
    "Q6. Write a Python function that takes in the degrees of freedom for the numerator and denominator of an\n",
    "F-distribution and calculates the mean and variance of the distribution. The function should return the\n",
    "mean and variance as a tuple."
   ]
  },
  {
   "cell_type": "code",
   "execution_count": null,
   "id": "319ed0c1-9add-4867-9d27-fe04fc92bda3",
   "metadata": {},
   "outputs": [],
   "source": [
    "import math\n",
    "\n",
    "def f_distribution_mean_and_variance(dfn, dfd):\n",
    "    \"\"\"\n",
    "    Calculates the mean and variance of an F-distribution given the degrees of freedom for the numerator and\n",
    "    denominator.\n",
    "    \n",
    "    Args:\n",
    "    dfn (int): Degrees of freedom for the numerator\n",
    "    dfd (int): Degrees of freedom for the denominator\n",
    "    \n",
    "    Returns:\n",
    "    Tuple containing the mean and variance of the F-distribution\n",
    "    \"\"\"\n",
    "    if dfn <= 0 or dfd <= 0:\n",
    "        raise ValueError(\"Degrees of freedom must be greater than zero\")\n",
    "    \n",
    "    mean = dfd / (dfd - 2)\n",
    "    if dfd <= 4:\n",
    "        variance = float('inf')\n",
    "    else:\n",
    "        variance = (2 * (dfd ** 2) * (dfn + dfd - 2)) / ((dfn * (dfd - 2) ** 2 * (dfd - 4)))\n",
    "    \n",
    "    return mean, variance\n"
   ]
  },
  {
   "cell_type": "markdown",
   "id": "9d37153c-3d7c-43b2-96ca-b170683108ed",
   "metadata": {},
   "source": [
    "Q7. A random sample of 10 measurements is taken from a normal population with unknown variance. The\n",
    "sample variance is found to be 25. Another random sample of 15 measurements is taken from another\n",
    "normal population with unknown variance, and the sample variance is found to be 20. Conduct an F-test\n",
    "at the 10% significance level to determine if the variances are significantly different."
   ]
  },
  {
   "cell_type": "markdown",
   "id": "d6edba62-0151-484e-b301-7bb49e87f426",
   "metadata": {},
   "source": [
    "Null Hypothesis: The variances of the two populations are equal.\n",
    "\n",
    "Alternate Hypothesis: The variances of the two populations are not equal.\n",
    "\n",
    "Significance level: 0.10\n",
    "\n",
    "Sample 1:\n",
    "n1 = 10\n",
    "s1_sq = 25\n",
    "df1 = n1 - 1\n",
    "\n",
    "Sample 2:\n",
    "n2 = 15\n",
    "s2_sq = 20\n",
    "df2 = n2 - 1\n",
    "\n",
    "F-statistic:\n",
    "\n",
    "F = s1_sq/s2_sq\n",
    "\n",
    "Degrees of freedom:\n",
    "\n",
    "dfn = df1\n",
    "dfd = df2\n",
    "\n",
    "p-value:\n",
    "\n",
    "p_value = 2*(1 - stats.f.cdf(F, dfn, dfd))\n",
    "\n",
    "Critical F-value:\n",
    "\n",
    "f_crit_low, f_crit_high = stats.f.ppf([0.05, 0.95], dfn, dfd)\n",
    "\n",
    "Conclusion:\n",
    "\n",
    "Since the calculated F-value (25/20 = 1.25) is less than the critical F-value (0.445 and 2.753), we fail to reject the null hypothesis. Therefore, we do not have enough evidence to conclude that the variances of the two populations are significantly different at the 10% significance level."
   ]
  },
  {
   "cell_type": "markdown",
   "id": "a4a0f332-17b8-4c17-b79a-43246224e275",
   "metadata": {},
   "source": [
    "Q8. The following data represent the waiting times in minutes at two different restaurants on a Saturday\n",
    "night: Restaurant A: 24, 25, 28, 23, 22, 20, 27; Restaurant B: 31, 33, 35, 30, 32, 36. Conduct an F-test at the 5%\n",
    "significance level to determine if the variances are significantly different."
   ]
  },
  {
   "cell_type": "code",
   "execution_count": null,
   "id": "33706b0a-9cb1-438e-a5f0-60fba24a2ef2",
   "metadata": {},
   "outputs": [],
   "source": [
    "from scipy.stats import f\n",
    "\n",
    "# Calculate the F-statistic and p-value\n",
    "f_stat = var_a / var_b\n",
    "p_val = 1 - f.cdf(f_stat, len(a) - 1, len(b) - 1)\n",
    "\n",
    "# Output the results\n",
    "print(\"F-statistic:\", f_stat)\n",
    "print(\"p-value:\", p_val)\n",
    "\n",
    "# Check if p-value is less than alpha\n",
    "alpha = 0.05\n",
    "if p_val < alpha:\n",
    "    print(\"Reject null hypothesis - variances are significantly different\")\n",
    "else:\n",
    "    print(\"Fail to reject null hypothesis - variances are not significantly different\")\n",
    "from scipy.stats import f\n",
    "\n",
    "# Calculate the F-statistic and p-value\n",
    "f_stat = var_a / var_b\n",
    "p_val = 1 - f.cdf(f_stat, len(a) - 1, len(b) - 1)\n",
    "\n",
    "# Output the results\n",
    "print(\"F-statistic:\", f_stat)\n",
    "print(\"p-value:\", p_val)\n",
    "\n",
    "# Check if p-value is less than alpha\n",
    "alpha = 0.05\n",
    "if p_val < alpha:\n",
    "    print(\"Reject null hypothesis - variances are significantly different\")\n",
    "else:\n",
    "    print(\"Fail to reject null hypothesis - variances are not significantly different\")\n",
    "\n",
    "    \n"
   ]
  },
  {
   "cell_type": "markdown",
   "id": "eb105c61-052e-421e-865e-f3037f391b97",
   "metadata": {},
   "source": [
    "Q9. The following data represent the test scores of two groups of students: Group A: 80, 85, 90, 92, 87, 83;\n",
    "Group B: 75, 78, 82, 79, 81, 84. Conduct an F-test at the 1% significance level to determine if the variances\n",
    "are significantly different."
   ]
  },
  {
   "cell_type": "code",
   "execution_count": null,
   "id": "4e3808f7-b555-41c5-86db-e8f62d2f658f",
   "metadata": {},
   "outputs": [],
   "source": [
    "from scipy.stats import f_oneway\n",
    "\n",
    "group_a = [80, 85, 90, 92, 87, 83]\n",
    "group_b = [75, 78, 82, 79, 81, 84]\n",
    "\n",
    "f_value, p_value = f_oneway(group_a, group_b)\n",
    "\n",
    "print(\"F-value:\", f_value)\n",
    "print(\"p-value:\", p_value)\n"
   ]
  }
 ],
 "metadata": {
  "kernelspec": {
   "display_name": "Python 3 (ipykernel)",
   "language": "python",
   "name": "python3"
  },
  "language_info": {
   "codemirror_mode": {
    "name": "ipython",
    "version": 3
   },
   "file_extension": ".py",
   "mimetype": "text/x-python",
   "name": "python",
   "nbconvert_exporter": "python",
   "pygments_lexer": "ipython3",
   "version": "3.10.8"
  }
 },
 "nbformat": 4,
 "nbformat_minor": 5
}
